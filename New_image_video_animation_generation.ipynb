{
  "cells": [
    {
      "cell_type": "markdown",
      "metadata": {
        "id": "view-in-github",
        "colab_type": "text"
      },
      "source": [
        "<a href=\"https://colab.research.google.com/github/ManpreetKaur4356091/GenAI/blob/main/New_image_video_animation_generation.ipynb\" target=\"_parent\"><img src=\"https://colab.research.google.com/assets/colab-badge.svg\" alt=\"Open In Colab\"/></a>"
      ]
    },
    {
      "cell_type": "markdown",
      "source": [
        "# **Title of the Project** : Image and GIF Generative AI based on Replicate API\n",
        "\n",
        "\n",
        "\n",
        "\n",
        "\n"
      ],
      "metadata": {
        "id": "M49lstKso4R4"
      }
    },
    {
      "cell_type": "markdown",
      "source": [
        "# Project Scope :\n",
        "The project's overarching goal is to use the Replicate API to generate AI-powered images and GIFs. It entails using the API to generate GIFs and pictures in response to user input.\n",
        "\n",
        "In this project, we will investigate Replicate's features, build an intuitive interface for creating and viewing visual material created by artificial intelligence, and integrate API calls.\n"
      ],
      "metadata": {
        "id": "ssJFs-pD6jnp"
      }
    },
    {
      "cell_type": "markdown",
      "source": [
        "#**Group Members**\n",
        "* Manpreet kaur\n",
        "\n",
        "\n",
        "\n",
        "    STUDENT ID - 4356091\n",
        "* Harmanpreet kaur\n",
        "\n",
        "\n",
        "\n",
        "    STUDENT ID - 4356829\n",
        "\n"
      ],
      "metadata": {
        "id": "-ipdHktp9yIQ"
      }
    },
    {
      "cell_type": "markdown",
      "source": [
        "# Detailed Description :\n",
        "The primary goal of this project is to use the Replicate API to create artificial intelligence photos and GIFs. Using the Replicate API allows users to input instructions and get aesthetically pleasing outcomes.\n",
        "\n",
        "As part of the implementation, you will investigate several AI models on Replicate, configure API calls, and build an interface for basic interaction. The objective is to provide a flexible platform where users may submit their own instructions in order to encourage the development of various visual content.\n",
        "\n",
        "\n"
      ],
      "metadata": {
        "id": "XidgDIqj7NDd"
      }
    },
    {
      "cell_type": "markdown",
      "source": [
        "# Objectives\n",
        "- A major goal of this project is to include the Replicate API, which may be used to create images and GIFs. With AI's assistance, users will be able to make visually attractive content.\n",
        "- An Importing API capabilities into the system, learning to utilize Replicate's models, creating an easy-to-navigate interface, and streamlining the quick submission process for users are all critical goals.\n",
        "- An extensive and flexible tool capable of producing various image and GIF types in response to user input is the primary objective of this project.\n",
        "- An Project objectives include developing a straightforward interface for making varied content, demonstrating model capabilities, expediting API integration, simplifying user prompt handling, and working in combination with the Replicate API to produce photos and GIFs.\n",
        "\n",
        "\n"
      ],
      "metadata": {
        "id": "LIMZbAotNgUT"
      }
    },
    {
      "cell_type": "markdown",
      "source": [
        "# Outcomes:\n",
        "- In an ideal world, our system would be able to use the Replicate API to create images and GIFs.\n",
        "- With a well-designed interface, users should have no trouble answering questions, entering commands, and seeing the results visually.\n",
        "- Users will be able to create their own unique GIFs and photos thanks to this endeavor, which demonstrates the flexibility of Replicate's AI algorithms.\n",
        "- Users will be able to use Replicate's AI models to generate original content after the experiment is over. The effectiveness and inventiveness of the system will be shown by this.\n",
        "\n",
        "\n"
      ],
      "metadata": {
        "id": "ouFrlqNB6ax4"
      }
    },
    {
      "cell_type": "markdown",
      "source": [
        "# Modification /New specification Cell\n",
        "* The following adjustments were made to ensure that models could be executed and content could be generated without any hitches on the Replicate platform:\n",
        "\n",
        "Using pip, we installed the replicate library so that our models could run smoothly and our content could be generated on the Replicate platform.\n",
        "\n",
        "+ Creating an API Token: An API token was created to authenticate the communication between the Colab notebook and Replicate.\n",
        "\n",
        "In order to generate images, all you need to do is provide a prompt and use duplicate.operated in tandem with a model that has already been trained.\n",
        "\n",
        "A separate methodology is used for the generation of videos or GIFs. You may also choose the output type (GIF), the ping-pong effect, and the start and finish prompts.\n",
        "\n",
        "\n",
        "## Justification and importance of Modifications:\n",
        "- Users are provided with a strong and accessible tool for creative content development via the application of the Replicate API for image and GIF generation.\n",
        "- A  With this project, we want to meet the increasing need for visual content production powered by AI, meeting the demands of a wide range of users.\n",
        "- A  It makes it easier to create instructional materials, promotional content, and works of art. -  It also represents an advance in creative and efficient digital production by demonstrating the possibilities of AI in improving and simplifying visual content development processes.\n"
      ],
      "metadata": {
        "id": "1FQxZRo5-NXM"
      }
    },
    {
      "cell_type": "markdown",
      "source": [
        "# **Criteria specific**\n",
        "\n",
        "\n",
        "## Relevance and application\n",
        "Using the Replicate API to generate images and GIFs brings new algorithmic capabilities to the field of artificial intelligence (AI) driven visual content production. Streamlining and improving efficiency in producing different and original images is the goal of this project.\n",
        "\n",
        "\n",
        "As an adaptable resource for algorithmic art production, this technique has potential uses in the arts, advertising, and academia. An important reason why this research is important is that it has the ability to revolutionize the way algorithms work, leading to new ideas and approaches in the field of artificial intelligence (AI) visual content creation.\n",
        "\n",
        "\n",
        "## Innovation:\n",
        "Using the Replicate API to generate images and GIFs is novel because it revolutionizes the way creative material is produced. The project's goal is to transform creative expression and visual storytelling by using state-of-the-art AI algorithms.\n",
        "\n",
        "An additional innovative feature is the user-friendly interface that allows for prompt-based development, which allows for the creation of one-of-a-kind images. By encouraging new ideas and expanding the limits of generative art, this project adds to the dynamic field of AI-driven creation.\n",
        "\n",
        "\n",
        "\n",
        "## Technical Proficiency:\n",
        "\n",
        "- Acquiring technical expertise in this project necessitates being an expert at integrating the Replicate API into the system. It includes a complete grasp of how to configure AI models in Replicate, how to optimize API calls, and how to design user interactions based on prompts.\n",
        "- A  Manage API answers, handle issues, and ensure flawless operation with proficiency.\n",
        "- A  The technical part is learning all the ins and outs of Replicate's documentation so you can utilize it to its full potential and make GIFs and high-quality photos whenever the user tells you to.\n"
      ],
      "metadata": {
        "id": "LZX1oiB09M9C"
      }
    },
    {
      "cell_type": "markdown",
      "source": [
        "##1.Install Replicate using pip.\n",
        "The supplied code is a pip package management command to install the \"Replicate\" Python package. The term \"Replica\" probably refers to a library or tool used for data science or software development projects involving replication.\n"
      ],
      "metadata": {
        "id": "03xL0Alon2h6"
      }
    },
    {
      "cell_type": "code",
      "execution_count": null,
      "metadata": {
        "colab": {
          "base_uri": "https://localhost:8080/"
        },
        "id": "K-f4rzIDbk8n",
        "outputId": "4726a5f3-56d0-4bc3-af97-70732dcdbf56"
      },
      "outputs": [
        {
          "output_type": "stream",
          "name": "stdout",
          "text": [
            "Collecting replicate\n",
            "  Downloading replicate-0.25.1-py3-none-any.whl (39 kB)\n",
            "Collecting httpx<1,>=0.21.0 (from replicate)\n",
            "  Downloading httpx-0.27.0-py3-none-any.whl (75 kB)\n",
            "\u001b[2K     \u001b[90m━━━━━━━━━━━━━━━━━━━━━━━━━━━━━━━━━━━━━━━━\u001b[0m \u001b[32m75.6/75.6 kB\u001b[0m \u001b[31m1.3 MB/s\u001b[0m eta \u001b[36m0:00:00\u001b[0m\n",
            "\u001b[?25hRequirement already satisfied: packaging in /usr/local/lib/python3.10/dist-packages (from replicate) (24.0)\n",
            "Requirement already satisfied: pydantic>1.10.7 in /usr/local/lib/python3.10/dist-packages (from replicate) (2.6.4)\n",
            "Requirement already satisfied: typing-extensions>=4.5.0 in /usr/local/lib/python3.10/dist-packages (from replicate) (4.10.0)\n",
            "Requirement already satisfied: anyio in /usr/local/lib/python3.10/dist-packages (from httpx<1,>=0.21.0->replicate) (3.7.1)\n",
            "Requirement already satisfied: certifi in /usr/local/lib/python3.10/dist-packages (from httpx<1,>=0.21.0->replicate) (2024.2.2)\n",
            "Collecting httpcore==1.* (from httpx<1,>=0.21.0->replicate)\n",
            "  Downloading httpcore-1.0.5-py3-none-any.whl (77 kB)\n",
            "\u001b[2K     \u001b[90m━━━━━━━━━━━━━━━━━━━━━━━━━━━━━━━━━━━━━━━━\u001b[0m \u001b[32m77.9/77.9 kB\u001b[0m \u001b[31m4.8 MB/s\u001b[0m eta \u001b[36m0:00:00\u001b[0m\n",
            "\u001b[?25hRequirement already satisfied: idna in /usr/local/lib/python3.10/dist-packages (from httpx<1,>=0.21.0->replicate) (3.6)\n",
            "Requirement already satisfied: sniffio in /usr/local/lib/python3.10/dist-packages (from httpx<1,>=0.21.0->replicate) (1.3.1)\n",
            "Collecting h11<0.15,>=0.13 (from httpcore==1.*->httpx<1,>=0.21.0->replicate)\n",
            "  Downloading h11-0.14.0-py3-none-any.whl (58 kB)\n",
            "\u001b[2K     \u001b[90m━━━━━━━━━━━━━━━━━━━━━━━━━━━━━━━━━━━━━━━━\u001b[0m \u001b[32m58.3/58.3 kB\u001b[0m \u001b[31m5.9 MB/s\u001b[0m eta \u001b[36m0:00:00\u001b[0m\n",
            "\u001b[?25hRequirement already satisfied: annotated-types>=0.4.0 in /usr/local/lib/python3.10/dist-packages (from pydantic>1.10.7->replicate) (0.6.0)\n",
            "Requirement already satisfied: pydantic-core==2.16.3 in /usr/local/lib/python3.10/dist-packages (from pydantic>1.10.7->replicate) (2.16.3)\n",
            "Requirement already satisfied: exceptiongroup in /usr/local/lib/python3.10/dist-packages (from anyio->httpx<1,>=0.21.0->replicate) (1.2.0)\n",
            "Installing collected packages: h11, httpcore, httpx, replicate\n",
            "Successfully installed h11-0.14.0 httpcore-1.0.5 httpx-0.27.0 replicate-0.25.1\n"
          ]
        }
      ],
      "source": [
        "# @title Install Replicate\n",
        "!pip install replicate"
      ]
    },
    {
      "cell_type": "markdown",
      "source": [
        "##2. Set Replicate API token.\n",
        "\n",
        "The programme uses the newly created token to set the value of the environment variable \"REPLICATE_API_TOKEN\" to a Replicate API token. Token verification for Replicate service access. You may create these tokens on Replicate's website using the URL provided in the remark.\n"
      ],
      "metadata": {
        "id": "sFTSpliVoGgA"
      }
    },
    {
      "cell_type": "code",
      "execution_count": null,
      "metadata": {
        "id": "cFmhr3PSf4G2"
      },
      "outputs": [],
      "source": [
        "API = \"r8_ZckEFyKhxrZnEoHmCa3TFbaKM97b8Zo0c4PgG\"\n",
        "import os\n",
        "\n",
        "os.environ[\"REPLICATE_API_TOKEN\"] = API #find it here: https://replicate.com/signin?next=/account/api-tokens\n"
      ]
    },
    {
      "cell_type": "markdown",
      "source": [
        "##3. Generate image with Replicate.\n",
        "\n",
        "An picture is generated using Replicate with the instruction \"MAN IS WEARING SUNGLASSES.\" It uses stability-diffusion model from stability-ai, and the output variable stores the resultant picture, which probably includes information about the generation process.\n",
        "\n",
        "\n",
        "\n",
        "\n",
        "\n"
      ],
      "metadata": {
        "id": "99b2KkrToOPY"
      }
    },
    {
      "cell_type": "code",
      "execution_count": null,
      "metadata": {
        "colab": {
          "base_uri": "https://localhost:8080/"
        },
        "id": "0zz83wA6cqSF",
        "outputId": "4e383aae-187b-44db-dcd2-0bc197f97b20"
      },
      "outputs": [
        {
          "output_type": "execute_result",
          "data": {
            "text/plain": [
              "['https://replicate.delivery/pbxt/jAYWiBGKSYYoMxunwElYAyqOCF7Z65oyTHG0uANMeNOHL5SJA/out-0.png']"
            ]
          },
          "metadata": {},
          "execution_count": 3
        }
      ],
      "source": [
        "# @title Generate Image\n",
        "prompt = \"man with glass of water\"\n",
        "import replicate\n",
        "\n",
        "output = replicate.run(\n",
        "  \"stability-ai/stable-diffusion:27b93a2413e7f36cd83da926f3656280b2931564ff050bf9575f1fdf9bcd7478\",\n",
        "  input={\"prompt\":prompt}\n",
        ")\n",
        "\n",
        "output"
      ]
    },
    {
      "cell_type": "markdown",
      "source": [
        "##4. Display Replicate-generated image.\n",
        "\n",
        "\n",
        "This code displays an image that was created by Replicate using IPython's 'Image' module. You can see the image URL that was collected from the last Replicate generation in the output_image variable, which is shown using the Image class.\n",
        "\n",
        "\n",
        "\n",
        "\n",
        "\n",
        "\n",
        "\n"
      ],
      "metadata": {
        "id": "0HNTesaHoSYo"
      }
    },
    {
      "cell_type": "code",
      "execution_count": null,
      "metadata": {
        "colab": {
          "base_uri": "https://localhost:8080/",
          "height": 533
        },
        "id": "hwXEISnemCLj",
        "outputId": "2b713d04-18f9-4572-8cdc-b9b38bef0776"
      },
      "outputs": [
        {
          "output_type": "execute_result",
          "data": {
            "text/html": [
              "<img src=\"https://replicate.delivery/pbxt/jAYWiBGKSYYoMxunwElYAyqOCF7Z65oyTHG0uANMeNOHL5SJA/out-0.png\"/>"
            ],
            "text/plain": [
              "<IPython.core.display.Image object>"
            ]
          },
          "metadata": {},
          "execution_count": 4
        }
      ],
      "source": [
        "\n",
        "from IPython.display import Image\n",
        "output_image = output\n",
        "Image(url=output_image[0])"
      ]
    },
    {
      "cell_type": "markdown",
      "source": [
        "##5. Generate animated GIF with Replicate API.\n",
        "\n",
        "This code utilizes Replicate to generate an animated GIF. Starting with \"MAN IS WEARING SUNGLASSES\" and ending with \"man is removing the sunglasses he wore,\" the prompts paint a picture of event. Utilizing the stable-diffusion-animation model, the animation is rendered with a ping-pong effect in GIF format. The 'output variable' stores the collected data.\n"
      ],
      "metadata": {
        "id": "tlvYwhh7oVq_"
      }
    },
    {
      "cell_type": "code",
      "execution_count": null,
      "metadata": {
        "colab": {
          "base_uri": "https://localhost:8080/"
        },
        "id": "Misa5E4QiWNZ",
        "outputId": "273394d1-34f1-48fe-8b13-0cbb8adb67a1"
      },
      "outputs": [
        {
          "output_type": "execute_result",
          "data": {
            "text/plain": [
              "<generator object Prediction.output_iterator at 0x7ef0d936aff0>"
            ]
          },
          "metadata": {},
          "execution_count": 5
        }
      ],
      "source": [
        "# @title Video/gif/animation/Generation\n",
        "import replicate\n",
        "\n",
        "output = replicate.run(\n",
        "    \"andreasjansson/stable-diffusion-animation:ca1f5e306e5721e19c473e0d094e6603f0456fe759c10715fcd6c1b79242d4a5\",\n",
        "    input={\n",
        "        \"prompt_start\": \"MAN IS WEARING SUNGLASSES\",\n",
        "        \"prompt_end\": \"man removed the sunglasses he wore\",\n",
        "        \"output_format\": \"gif\",\n",
        "        \"gif_ping_pong\": True\n",
        "    }\n",
        ")\n",
        "\n",
        "output\n"
      ]
    },
    {
      "cell_type": "markdown",
      "source": [
        "## 6.Print Replicate output details.\n",
        "\n",
        "The statements in the 'output' variable are iterated over by this code, which most likely include information or metadata produced by the Replicate process. In order to comprehend the output schema, particularly for the \"andreasjansson/stable-diffusion-animation\" model, the remark refers to the Replicate documentation.\n",
        "\n",
        "\n",
        "\n",
        "\n",
        "\n",
        "\n"
      ],
      "metadata": {
        "id": "kNNm0SY7oY1P"
      }
    },
    {
      "cell_type": "code",
      "execution_count": null,
      "metadata": {
        "id": "BB0LZJTyjA7Z",
        "outputId": "5f107624-2110-4c10-d81f-bda13407fe74",
        "colab": {
          "base_uri": "https://localhost:8080/"
        }
      },
      "outputs": [
        {
          "output_type": "stream",
          "name": "stdout",
          "text": [
            "https://replicate.delivery/pbxt/lMtx7OTZcsZ9IdlUYFSMpeOLmdkafXt3OE7cK6XuGz5BaylSA/video.gif\n"
          ]
        }
      ],
      "source": [
        "# @title generate video\n",
        "for item in output:\n",
        "     #https://replicate.com/andreasjansson/stable-diffusion-animation/versions/ca1f5e306e5721e19c473e0d094e6603f0456fe759c10715fcd6c1b79242d4a5/api#output-schema\n",
        "    print(item)"
      ]
    },
    {
      "cell_type": "markdown",
      "source": [
        "## 7. Get Colab-ready video URL.\n",
        "\n",
        "This code snippet defines the variable gif_url, which stores a Colab-compatible video URL. An excerpt from the {item} variable illustrating the changes made to the URL of the Replicate-generated film for use in Colab is taken.\n",
        "\n",
        "\n",
        "\n",
        "\n",
        "\n",
        "\n"
      ],
      "metadata": {
        "id": "w6fZwjtKoggI"
      }
    },
    {
      "cell_type": "code",
      "execution_count": null,
      "metadata": {
        "id": "fuPgsixhkxM4"
      },
      "outputs": [],
      "source": [
        "# @title get the video on colab\n",
        "gif_url= item[0:len(item)]"
      ]
    },
    {
      "cell_type": "markdown",
      "source": [
        " ## 8.Fetch, display, and save GIF.\n",
        "\n",
        "\n",
        " The supplied URL ('gif_url') is used by this code to obtain a GIF. It loads the GIF into the notebook, stores it locally as \"gif_output.gif,\" and then loads it into the PIL library to display. An error message is printed if the fetching process fails.\n",
        "\n",
        "\n",
        "\n",
        "\n",
        "\n",
        "\n"
      ],
      "metadata": {
        "id": "Hmz6QKmwUmw6"
      }
    },
    {
      "cell_type": "code",
      "execution_count": null,
      "metadata": {
        "colab": {
          "base_uri": "https://localhost:8080/",
          "height": 533
        },
        "id": "6VPPvsE3km93",
        "outputId": "cfdf5fe2-241a-437e-e9b8-2f3176bf642c"
      },
      "outputs": [
        {
          "output_type": "display_data",
          "data": {
            "text/html": [
              "<img src=\"https://replicate.delivery/pbxt/lMtx7OTZcsZ9IdlUYFSMpeOLmdkafXt3OE7cK6XuGz5BaylSA/video.gif\"/>"
            ],
            "text/plain": [
              "<IPython.core.display.Image object>"
            ]
          },
          "metadata": {}
        }
      ],
      "source": [
        "# @title Show the video\n",
        "import requests\n",
        "from IPython.display import display, Image\n",
        "from PIL import Image as PILImage\n",
        "from io import BytesIO\n",
        "response = requests.get(gif_url)\n",
        "if response.status_code == 200:\n",
        "    # Display the GIF in the notebook\n",
        "    display(Image(url=gif_url))\n",
        "\n",
        "    # Save the GIF in the Colab environment\n",
        "    with open(\"gif_output.gif\", \"wb\") as f:\n",
        "        f.write(response.content)\n",
        "\n",
        "    # Show a saved GIF using PIL\n",
        "    saved_gif = PILImage.open(\"gif_output.gif\")\n",
        "    saved_gif.show()\n",
        "else:\n",
        "    print(\"Failed to fetch GIF\")\n"
      ]
    },
    {
      "cell_type": "markdown",
      "source": [
        "# References\n",
        "\n",
        "* IPython Documentation — IPython 8.18.1 documentation. (n.d.). https://ipython.readthedocs.io/en/stable/\n",
        "+ Module: display — IPython 3.2.1 documentation. (n.d.). https://ipython.org/ipython-doc/3/api/generated/IPython.display.html\n",
        "\n",
        "+ Turna.GitHub - turna1/GenAI: Here, we focus on educating and enlightening the community about various Generative AI models through hands-on coding tutorials and informative articles. GitHub. https://github.com/turna1/GenAI\n",
        "\n"
      ],
      "metadata": {
        "id": "_Lj16ky3-Wip"
      }
    },
    {
      "cell_type": "markdown",
      "source": [
        "#Video Link\n",
        "https://drive.google.com/file/d/1iBhb0unNKM6XzQCIBwd8DHWdhHvOjIww/view?usp=drivesdk"
      ],
      "metadata": {
        "id": "sqI9Y8FP2qBW"
      }
    },
    {
      "cell_type": "markdown",
      "source": [
        "# Thank you\n",
        "\n"
      ],
      "metadata": {
        "id": "LX6Dmm0EV0DT"
      }
    }
  ],
  "metadata": {
    "colab": {
      "provenance": [],
      "include_colab_link": true
    },
    "kernelspec": {
      "display_name": "Python 3",
      "name": "python3"
    },
    "language_info": {
      "name": "python"
    }
  },
  "nbformat": 4,
  "nbformat_minor": 0
}